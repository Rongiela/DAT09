{
 "cells": [
  {
   "cell_type": "markdown",
   "metadata": {},
   "source": [
    "# **MATPLOTLIB**"
   ]
  },
  {
   "cell_type": "markdown",
   "metadata": {},
   "source": [
    "##### Install the package"
   ]
  },
  {
   "cell_type": "code",
   "execution_count": 1,
   "metadata": {},
   "outputs": [
    {
     "name": "stdout",
     "output_type": "stream",
     "text": [
      "Collecting matplotlib\n",
      "  Downloading matplotlib-3.10.1-cp313-cp313-win_amd64.whl.metadata (11 kB)\n",
      "Collecting contourpy>=1.0.1 (from matplotlib)\n",
      "  Downloading contourpy-1.3.1-cp313-cp313-win_amd64.whl.metadata (5.4 kB)\n",
      "Collecting cycler>=0.10 (from matplotlib)\n",
      "  Downloading cycler-0.12.1-py3-none-any.whl.metadata (3.8 kB)\n",
      "Collecting fonttools>=4.22.0 (from matplotlib)\n",
      "  Downloading fonttools-4.56.0-cp313-cp313-win_amd64.whl.metadata (103 kB)\n",
      "Collecting kiwisolver>=1.3.1 (from matplotlib)\n",
      "  Downloading kiwisolver-1.4.8-cp313-cp313-win_amd64.whl.metadata (6.3 kB)\n",
      "Requirement already satisfied: numpy>=1.23 in c:\\users\\rongiela\\appdata\\local\\programs\\python\\python313\\lib\\site-packages (from matplotlib) (2.2.3)\n",
      "Requirement already satisfied: packaging>=20.0 in c:\\users\\rongiela\\appdata\\roaming\\python\\python313\\site-packages (from matplotlib) (24.2)\n",
      "Collecting pillow>=8 (from matplotlib)\n",
      "  Downloading pillow-11.1.0-cp313-cp313-win_amd64.whl.metadata (9.3 kB)\n",
      "Collecting pyparsing>=2.3.1 (from matplotlib)\n",
      "  Downloading pyparsing-3.2.1-py3-none-any.whl.metadata (5.0 kB)\n",
      "Requirement already satisfied: python-dateutil>=2.7 in c:\\users\\rongiela\\appdata\\roaming\\python\\python313\\site-packages (from matplotlib) (2.9.0.post0)\n",
      "Requirement already satisfied: six>=1.5 in c:\\users\\rongiela\\appdata\\roaming\\python\\python313\\site-packages (from python-dateutil>=2.7->matplotlib) (1.17.0)\n",
      "Downloading matplotlib-3.10.1-cp313-cp313-win_amd64.whl (8.1 MB)\n",
      "   ---------------------------------------- 0.0/8.1 MB ? eta -:--:--\n",
      "   ------- -------------------------------- 1.6/8.1 MB 8.3 MB/s eta 0:00:01\n",
      "   --------------- ------------------------ 3.1/8.1 MB 7.1 MB/s eta 0:00:01\n",
      "   -------------------- ------------------- 4.2/8.1 MB 6.7 MB/s eta 0:00:01\n",
      "   --------------------------- ------------ 5.5/8.1 MB 6.4 MB/s eta 0:00:01\n",
      "   --------------------------------- ------ 6.8/8.1 MB 6.4 MB/s eta 0:00:01\n",
      "   ---------------------------------------- 8.1/8.1 MB 6.2 MB/s eta 0:00:00\n",
      "Downloading contourpy-1.3.1-cp313-cp313-win_amd64.whl (220 kB)\n",
      "Downloading cycler-0.12.1-py3-none-any.whl (8.3 kB)\n",
      "Downloading fonttools-4.56.0-cp313-cp313-win_amd64.whl (2.2 MB)\n",
      "   ---------------------------------------- 0.0/2.2 MB ? eta -:--:--\n",
      "   ---------------------------- ----------- 1.6/2.2 MB 8.1 MB/s eta 0:00:01\n",
      "   ---------------------------------------- 2.2/2.2 MB 6.4 MB/s eta 0:00:00\n",
      "Downloading kiwisolver-1.4.8-cp313-cp313-win_amd64.whl (71 kB)\n",
      "Downloading pillow-11.1.0-cp313-cp313-win_amd64.whl (2.6 MB)\n",
      "   ---------------------------------------- 0.0/2.6 MB ? eta -:--:--\n",
      "   ----------------------- ---------------- 1.6/2.6 MB 7.8 MB/s eta 0:00:01\n",
      "   ---------------------------------------- 2.6/2.6 MB 6.7 MB/s eta 0:00:00\n",
      "Downloading pyparsing-3.2.1-py3-none-any.whl (107 kB)\n",
      "Installing collected packages: pyparsing, pillow, kiwisolver, fonttools, cycler, contourpy, matplotlib\n",
      "Successfully installed contourpy-1.3.1 cycler-0.12.1 fonttools-4.56.0 kiwisolver-1.4.8 matplotlib-3.10.1 pillow-11.1.0 pyparsing-3.2.1\n",
      "Note: you may need to restart the kernel to use updated packages.\n"
     ]
    },
    {
     "name": "stderr",
     "output_type": "stream",
     "text": [
      "\n",
      "[notice] A new release of pip is available: 24.3.1 -> 25.0.1\n",
      "[notice] To update, run: python.exe -m pip install --upgrade pip\n"
     ]
    }
   ],
   "source": [
    "%pip install matplotlib"
   ]
  },
  {
   "cell_type": "markdown",
   "metadata": {},
   "source": [
    "##### Import the package"
   ]
  },
  {
   "cell_type": "code",
   "execution_count": 3,
   "metadata": {},
   "outputs": [],
   "source": [
    "import matplotlib.pyplot as plt\n",
    "import pandas as pd"
   ]
  },
  {
   "cell_type": "markdown",
   "metadata": {},
   "source": [
    "### Types of Data Visualization in Matplotlib"
   ]
  },
  {
   "cell_type": "markdown",
   "metadata": {},
   "source": [
    "### 1. Line Plot\n",
    "\n",
    "The line plot, a cornerstone of data visualization, excels at revealing trends over time or across different categories. It connects data points with a line, visually depicting how a value changes in relation to another variable."
   ]
  },
  {
   "cell_type": "code",
   "execution_count": 4,
   "metadata": {},
   "outputs": [
    {
     "data": {
      "text/html": [
       "<div>\n",
       "<style scoped>\n",
       "    .dataframe tbody tr th:only-of-type {\n",
       "        vertical-align: middle;\n",
       "    }\n",
       "\n",
       "    .dataframe tbody tr th {\n",
       "        vertical-align: top;\n",
       "    }\n",
       "\n",
       "    .dataframe thead th {\n",
       "        text-align: right;\n",
       "    }\n",
       "</style>\n",
       "<table border=\"1\" class=\"dataframe\">\n",
       "  <thead>\n",
       "    <tr style=\"text-align: right;\">\n",
       "      <th></th>\n",
       "      <th>Months</th>\n",
       "      <th>No. Of Orders for Jacket</th>\n",
       "      <th>No. Of Orders for Summer Clothes</th>\n",
       "    </tr>\n",
       "  </thead>\n",
       "  <tbody>\n",
       "    <tr>\n",
       "      <th>0</th>\n",
       "      <td>Jan</td>\n",
       "      <td>8</td>\n",
       "      <td>25</td>\n",
       "    </tr>\n",
       "    <tr>\n",
       "      <th>1</th>\n",
       "      <td>Feb</td>\n",
       "      <td>10</td>\n",
       "      <td>27</td>\n",
       "    </tr>\n",
       "    <tr>\n",
       "      <th>2</th>\n",
       "      <td>Mar</td>\n",
       "      <td>12</td>\n",
       "      <td>24</td>\n",
       "    </tr>\n",
       "    <tr>\n",
       "      <th>3</th>\n",
       "      <td>April</td>\n",
       "      <td>14</td>\n",
       "      <td>20</td>\n",
       "    </tr>\n",
       "    <tr>\n",
       "      <th>4</th>\n",
       "      <td>May</td>\n",
       "      <td>18</td>\n",
       "      <td>15</td>\n",
       "    </tr>\n",
       "    <tr>\n",
       "      <th>5</th>\n",
       "      <td>June</td>\n",
       "      <td>20</td>\n",
       "      <td>13</td>\n",
       "    </tr>\n",
       "    <tr>\n",
       "      <th>6</th>\n",
       "      <td>July</td>\n",
       "      <td>26</td>\n",
       "      <td>9</td>\n",
       "    </tr>\n",
       "    <tr>\n",
       "      <th>7</th>\n",
       "      <td>Aug</td>\n",
       "      <td>24</td>\n",
       "      <td>13</td>\n",
       "    </tr>\n",
       "    <tr>\n",
       "      <th>8</th>\n",
       "      <td>Sept</td>\n",
       "      <td>22</td>\n",
       "      <td>14</td>\n",
       "    </tr>\n",
       "    <tr>\n",
       "      <th>9</th>\n",
       "      <td>Oct</td>\n",
       "      <td>14</td>\n",
       "      <td>16</td>\n",
       "    </tr>\n",
       "    <tr>\n",
       "      <th>10</th>\n",
       "      <td>Nov</td>\n",
       "      <td>12</td>\n",
       "      <td>18</td>\n",
       "    </tr>\n",
       "    <tr>\n",
       "      <th>11</th>\n",
       "      <td>Dec</td>\n",
       "      <td>9</td>\n",
       "      <td>22</td>\n",
       "    </tr>\n",
       "  </tbody>\n",
       "</table>\n",
       "</div>"
      ],
      "text/plain": [
       "   Months  No. Of Orders for Jacket  No. Of Orders for Summer Clothes\n",
       "0     Jan                         8                                25\n",
       "1     Feb                        10                                27\n",
       "2     Mar                        12                                24\n",
       "3   April                        14                                20\n",
       "4     May                        18                                15\n",
       "5    June                        20                                13\n",
       "6    July                        26                                 9\n",
       "7     Aug                        24                                13\n",
       "8    Sept                        22                                14\n",
       "9     Oct                        14                                16\n",
       "10    Nov                        12                                18\n",
       "11    Dec                         9                                22"
      ]
     },
     "execution_count": 4,
     "metadata": {},
     "output_type": "execute_result"
    }
   ],
   "source": [
    "# Data for number of orders per month\n",
    "data = {\n",
    "    \"Months\": [\"Jan\", \"Feb\", \"Mar\", \"April\", \"May\", \"June\", \"July\", \"Aug\", \"Sept\", \"Oct\", \"Nov\", \"Dec\"],\n",
    "    \"No. Of Orders for Jacket\": [8, 10, 12, 14, 18, 20, 26, 24, 22, 14, 12, 9],\n",
    "    \"No. Of Orders for Summer Clothes\": [25, 27, 24, 20, 15, 13, 9, 13, 14, 16, 18, 22]\n",
    "}\n",
    "# Create a DataFrame\n",
    "order_per_month_df = pd.DataFrame(data)\n",
    "order_per_month_df"
   ]
  },
  {
   "cell_type": "code",
   "execution_count": 42,
   "metadata": {},
   "outputs": [
    {
     "data": {
      "image/png": "[encoded data removed]",
      "text/plain": [
       "<Figure size 640x480 with 1 Axes>"
      ]
     },
     "metadata": {},
     "output_type": "display_data"
    }
   ],
   "source": [
    "# markers for the lineplot ->> o, x, s, +, *, D, d, etc\n",
    "# color for the lineplot ->> red, green, blue, yellow, etc\n",
    "# linestyle for the lineplot ->> --, -., :, -\n",
    "# linestyle: solid, dashed, dotted, dashdot, none\n",
    "\n",
    "\n",
    "plt.plot(order_per_month_df[\"Months\"], order_per_month_df[\"No. Of Orders for Jacket\"], marker=\"o\", color=\"blue\", linestyle=\"dashed\", linewidth=2, label=\"No. Of Orders for Jacket\")\n",
    "plt.plot(order_per_month_df[\"Months\"], order_per_month_df[\"No. Of Orders for Summer Clothes\"], marker=\"s\", color=\"orange\", linestyle=\"dotted\", linewidth=2, label=\"No. Of Orders for Summer Clothes\")\n",
    "\n",
    "# adding legend to the lineplot\n",
    "plt.legend([\"Jacket\", \"Summer Clothes\"], loc=\"upper right\")\n",
    "\n",
    "# adding label the x-axis\n",
    "plt.xlabel(\"Months\", fontsize=12, fontweight=\"bold\")\n",
    "# adding label the y-axis\n",
    "plt.ylabel(\"No. Of Orders for Jacket\", fontsize=12, fontweight=\"bold\")\n",
    "\n",
    "# adding title to the lineplot\n",
    "plt.title(\"Number of Orders per Month\", fontsize=14, fontweight=\"bold\")\n",
    "\n",
    "# adding legend to the lineplot\n",
    "plt.legend([\"Jacket\", \"Summer Clothes\"], loc=\"upper right\")\n",
    "\n",
    "# Add the legend\n",
    "plt.legend(loc=\"upper right\", fontsize=8, bbox_to_anchor = (1.5, -0.2))\n",
    "# upper right, upper left, lower right, lower left\n",
    "# center right, center left\n",
    "\n",
    "# adding grid to the lineplot\n",
    "plt.grid(True)\n",
    "\n",
    "\n",
    "# display the lineplot\n",
    "plt.show()\n"
   ]
  },
  {
   "cell_type": "markdown",
   "metadata": {},
   "source": [
    "### 2. Pie Charts\n",
    "\n",
    "Pie charts, those delightful circles sliced into wedges, are a go-to choice for visualizing proportions of a whole.  Matplotlib's pie chart functionality, accessible through the pyplot.pie() function, empowers you to represent data categories and their relative sizes in a clear and intuitive way."
   ]
  },
  {
   "cell_type": "code",
   "execution_count": null,
   "metadata": {},
   "outputs": [],
   "source": [
    "# Data for spending amounts for each category\n",
    "data = {\n",
    "    \"Categories\": ['Rent', 'Food', 'Transportation', 'Savings', 'Other'],\n",
    "    \"Amounts\": [500, 300, 200, 100, 100]\n",
    "}"
   ]
  },
  {
   "cell_type": "markdown",
   "metadata": {},
   "source": [
    "#### 3. Bar Charts\n",
    "\n",
    "Bar charts, the workhorses of data visualization, excel at showcasing comparisons between different categories.  Matplotlib's bar chart functionality, primarily accessed through the pyplot.bar() function, allows you to translate numerical data into a series of rectangular bars. The height of each bar corresponds to the value it represents, while the bars are positioned along a horizontal axis that typically represents the categories being compared."
   ]
  },
  {
   "cell_type": "code",
   "execution_count": null,
   "metadata": {},
   "outputs": [],
   "source": [
    "# Data for student enrollment per course\n",
    "data = {\n",
    "    \"Course\": ['Data Analytics', 'Frontend Development', 'DevOps', 'Full-Stack Development'],\n",
    "    \"Students\": [30, 25, 32, 28]\n",
    "}"
   ]
  }
 ],
 "metadata": {
  "kernelspec": {
   "display_name": "Python 3",
   "language": "python",
   "name": "python3"
  },
  "language_info": {
   "codemirror_mode": {
    "name": "ipython",
    "version": 3
   },
   "file_extension": ".py",
   "mimetype": "text/x-python",
   "name": "python",
   "nbconvert_exporter": "python",
   "pygments_lexer": "ipython3",
   "version": "3.13.2"
  }
 },
 "nbformat": 4,
 "nbformat_minor": 2
}
