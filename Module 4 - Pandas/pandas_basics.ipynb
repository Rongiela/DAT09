{
 "cells": [
  {
   "cell_type": "markdown",
   "metadata": {},
   "source": [
    "# **Pandas Basics**\n",
    "\n",
    "### **Install pandas package**"
   ]
  },
  {
   "cell_type": "code",
   "execution_count": 1,
   "metadata": {},
   "outputs": [
    {
     "name": "stdout",
     "output_type": "stream",
     "text": [
      "Collecting pandas\n",
      "  Downloading pandas-2.2.3-cp313-cp313-win_amd64.whl.metadata (19 kB)\n",
      "Collecting numpy>=1.26.0 (from pandas)\n",
      "  Downloading numpy-2.2.3-cp313-cp313-win_amd64.whl.metadata (60 kB)\n",
      "Requirement already satisfied: python-dateutil>=2.8.2 in c:\\users\\rongiela\\appdata\\roaming\\python\\python313\\site-packages (from pandas) (2.9.0.post0)\n",
      "Collecting pytz>=2020.1 (from pandas)\n",
      "  Downloading pytz-2025.1-py2.py3-none-any.whl.metadata (22 kB)\n",
      "Collecting tzdata>=2022.7 (from pandas)\n",
      "  Downloading tzdata-2025.1-py2.py3-none-any.whl.metadata (1.4 kB)\n",
      "Requirement already satisfied: six>=1.5 in c:\\users\\rongiela\\appdata\\roaming\\python\\python313\\site-packages (from python-dateutil>=2.8.2->pandas) (1.17.0)\n",
      "Downloading pandas-2.2.3-cp313-cp313-win_amd64.whl (11.5 MB)\n",
      "   ---------------------------------------- 0.0/11.5 MB ? eta -:--:--\n",
      "   ------ --------------------------------- 1.8/11.5 MB 8.8 MB/s eta 0:00:02\n",
      "   ---------- ----------------------------- 2.9/11.5 MB 7.1 MB/s eta 0:00:02\n",
      "   -------------- ------------------------- 4.2/11.5 MB 6.8 MB/s eta 0:00:02\n",
      "   ------------------- -------------------- 5.5/11.5 MB 6.6 MB/s eta 0:00:01\n",
      "   ----------------------- ---------------- 6.8/11.5 MB 6.5 MB/s eta 0:00:01\n",
      "   -------------------------- ------------- 7.6/11.5 MB 6.2 MB/s eta 0:00:01\n",
      "   ------------------------------- -------- 9.2/11.5 MB 6.2 MB/s eta 0:00:01\n",
      "   ------------------------------------- -- 10.7/11.5 MB 6.3 MB/s eta 0:00:01\n",
      "   ---------------------------------------- 11.5/11.5 MB 6.0 MB/s eta 0:00:00\n",
      "Downloading numpy-2.2.3-cp313-cp313-win_amd64.whl (12.6 MB)\n",
      "   ---------------------------------------- 0.0/12.6 MB ? eta -:--:--\n",
      "   ---- ----------------------------------- 1.3/12.6 MB 7.5 MB/s eta 0:00:02\n",
      "   --------- ------------------------------ 2.9/12.6 MB 7.8 MB/s eta 0:00:02\n",
      "   ------------- -------------------------- 4.2/12.6 MB 6.9 MB/s eta 0:00:02\n",
      "   ----------------- ---------------------- 5.5/12.6 MB 6.8 MB/s eta 0:00:02\n",
      "   --------------------- ------------------ 6.8/12.6 MB 6.6 MB/s eta 0:00:01\n",
      "   ------------------------- -------------- 8.1/12.6 MB 6.5 MB/s eta 0:00:01\n",
      "   ----------------------------- ---------- 9.4/12.6 MB 6.4 MB/s eta 0:00:01\n",
      "   ---------------------------------- ----- 10.7/12.6 MB 6.4 MB/s eta 0:00:01\n",
      "   ------------------------------------- -- 11.8/12.6 MB 6.2 MB/s eta 0:00:01\n",
      "   ---------------------------------------- 12.6/12.6 MB 6.1 MB/s eta 0:00:00\n",
      "Downloading pytz-2025.1-py2.py3-none-any.whl (507 kB)\n",
      "Downloading tzdata-2025.1-py2.py3-none-any.whl (346 kB)\n",
      "Installing collected packages: pytz, tzdata, numpy, pandas\n",
      "Successfully installed numpy-2.2.3 pandas-2.2.3 pytz-2025.1 tzdata-2025.1\n",
      "Note: you may need to restart the kernel to use updated packages.\n"
     ]
    },
    {
     "name": "stderr",
     "output_type": "stream",
     "text": [
      "\n",
      "[notice] A new release of pip is available: 24.3.1 -> 25.0.1\n",
      "[notice] To update, run: python.exe -m pip install --upgrade pip\n"
     ]
    }
   ],
   "source": [
    "# use for data analytics\n",
    "%pip install pandas"
   ]
  },
  {
   "cell_type": "markdown",
   "metadata": {},
   "source": [
    "### **Import pandas**"
   ]
  },
  {
   "cell_type": "code",
   "execution_count": 3,
   "metadata": {},
   "outputs": [],
   "source": [
    "import pandas as pd\n",
    "# pd = Pandas (alias)"
   ]
  },
  {
   "cell_type": "markdown",
   "metadata": {},
   "source": [
    "## **DataFrames**\n",
    "A DataFrame is a two-dimensional labeled data structure with columns of potentially \n",
    "different data types, similar to a spreadsheet or SQL table. \n",
    "It provides a powerful and flexible way to manipulate and analyze structured data in Python, \n",
    "offering functionalities for data analysis."
   ]
  },
  {
   "cell_type": "code",
   "execution_count": 5,
   "metadata": {},
   "outputs": [
    {
     "data": {
      "text/html": [
       "<div>\n",
       "<style scoped>\n",
       "    .dataframe tbody tr th:only-of-type {\n",
       "        vertical-align: middle;\n",
       "    }\n",
       "\n",
       "    .dataframe tbody tr th {\n",
       "        vertical-align: top;\n",
       "    }\n",
       "\n",
       "    .dataframe thead th {\n",
       "        text-align: right;\n",
       "    }\n",
       "</style>\n",
       "<table border=\"1\" class=\"dataframe\">\n",
       "  <thead>\n",
       "    <tr style=\"text-align: right;\">\n",
       "      <th></th>\n",
       "    </tr>\n",
       "  </thead>\n",
       "  <tbody>\n",
       "  </tbody>\n",
       "</table>\n",
       "</div>"
      ],
      "text/plain": [
       "Empty DataFrame\n",
       "Columns: []\n",
       "Index: []"
      ]
     },
     "execution_count": 5,
     "metadata": {},
     "output_type": "execute_result"
    }
   ],
   "source": [
    "# df = DataFrame\n",
    "df = pd.DataFrame()\n",
    "df"
   ]
  },
  {
   "cell_type": "code",
   "execution_count": 8,
   "metadata": {},
   "outputs": [
    {
     "data": {
      "text/html": [
       "<div>\n",
       "<style scoped>\n",
       "    .dataframe tbody tr th:only-of-type {\n",
       "        vertical-align: middle;\n",
       "    }\n",
       "\n",
       "    .dataframe tbody tr th {\n",
       "        vertical-align: top;\n",
       "    }\n",
       "\n",
       "    .dataframe thead th {\n",
       "        text-align: right;\n",
       "    }\n",
       "</style>\n",
       "<table border=\"1\" class=\"dataframe\">\n",
       "  <thead>\n",
       "    <tr style=\"text-align: right;\">\n",
       "      <th></th>\n",
       "      <th>Name</th>\n",
       "      <th>Age</th>\n",
       "    </tr>\n",
       "  </thead>\n",
       "  <tbody>\n",
       "    <tr>\n",
       "      <th>0</th>\n",
       "      <td>John</td>\n",
       "      <td>30</td>\n",
       "    </tr>\n",
       "    <tr>\n",
       "      <th>1</th>\n",
       "      <td>Jane</td>\n",
       "      <td>28</td>\n",
       "    </tr>\n",
       "    <tr>\n",
       "      <th>2</th>\n",
       "      <td>Smith</td>\n",
       "      <td>26</td>\n",
       "    </tr>\n",
       "  </tbody>\n",
       "</table>\n",
       "</div>"
      ],
      "text/plain": [
       "    Name  Age\n",
       "0   John   30\n",
       "1   Jane   28\n",
       "2  Smith   26"
      ]
     },
     "execution_count": 8,
     "metadata": {},
     "output_type": "execute_result"
    }
   ],
   "source": [
    "# Create pass data inside of list\n",
    "# List of lists\n",
    "row_data = [[\"John\", 30], [\"Jane\", 28], [\"Smith\", 26]]\n",
    "headers = [\"Name\", \"Age\"]\n",
    "df = pd.DataFrame(row_data, columns=headers)\n",
    "df"
   ]
  },
  {
   "cell_type": "code",
   "execution_count": 9,
   "metadata": {},
   "outputs": [
    {
     "data": {
      "text/html": [
       "<div>\n",
       "<style scoped>\n",
       "    .dataframe tbody tr th:only-of-type {\n",
       "        vertical-align: middle;\n",
       "    }\n",
       "\n",
       "    .dataframe tbody tr th {\n",
       "        vertical-align: top;\n",
       "    }\n",
       "\n",
       "    .dataframe thead th {\n",
       "        text-align: right;\n",
       "    }\n",
       "</style>\n",
       "<table border=\"1\" class=\"dataframe\">\n",
       "  <thead>\n",
       "    <tr style=\"text-align: right;\">\n",
       "      <th></th>\n",
       "      <th>Name</th>\n",
       "      <th>Age</th>\n",
       "    </tr>\n",
       "  </thead>\n",
       "  <tbody>\n",
       "    <tr>\n",
       "      <th>0</th>\n",
       "      <td>John</td>\n",
       "      <td>30</td>\n",
       "    </tr>\n",
       "    <tr>\n",
       "      <th>1</th>\n",
       "      <td>Jane</td>\n",
       "      <td>28</td>\n",
       "    </tr>\n",
       "    <tr>\n",
       "      <th>2</th>\n",
       "      <td>Smith</td>\n",
       "      <td>26</td>\n",
       "    </tr>\n",
       "  </tbody>\n",
       "</table>\n",
       "</div>"
      ],
      "text/plain": [
       "    Name  Age\n",
       "0   John   30\n",
       "1   Jane   28\n",
       "2  Smith   26"
      ]
     },
     "execution_count": 9,
     "metadata": {},
     "output_type": "execute_result"
    }
   ],
   "source": [
    "# Data inside of a dictionary\n",
    "# Dictionary of list\n",
    "# {key:value}\n",
    "data = {\n",
    "    \"Name\": [\"John\", \"Jane\", \"Smith\"],\n",
    "    \"Age\": [30,28,26]\n",
    "}\n",
    "df = pd.DataFrame(data)\n",
    "df"
   ]
  },
  {
   "cell_type": "code",
   "execution_count": 10,
   "metadata": {},
   "outputs": [
    {
     "data": {
      "text/plain": [
       "pandas.core.frame.DataFrame"
      ]
     },
     "execution_count": 10,
     "metadata": {},
     "output_type": "execute_result"
    }
   ],
   "source": [
    "type(df)"
   ]
  },
  {
   "cell_type": "markdown",
   "metadata": {},
   "source": [
    "## **Series**\n",
    "\n",
    "A pandas Series is a one-dimensional labeled array capable of \n",
    "holding data of any type (integer, string, float, etc.). \n",
    "It's similar to a one-column table or an array with associated labels, \n",
    "providing powerful indexing and manipulation capabilities in Python."
   ]
  },
  {
   "cell_type": "code",
   "execution_count": 11,
   "metadata": {},
   "outputs": [
    {
     "data": {
      "text/plain": [
       "0    1\n",
       "1    2\n",
       "2    3\n",
       "3    4\n",
       "4    5\n",
       "dtype: int64"
      ]
     },
     "execution_count": 11,
     "metadata": {},
     "output_type": "execute_result"
    }
   ],
   "source": [
    "series = pd.Series([1,2,3,4,5])\n",
    "series"
   ]
  },
  {
   "cell_type": "code",
   "execution_count": 12,
   "metadata": {},
   "outputs": [
    {
     "data": {
      "text/plain": [
       "pandas.core.series.Series"
      ]
     },
     "execution_count": 12,
     "metadata": {},
     "output_type": "execute_result"
    }
   ],
   "source": [
    "type(series)"
   ]
  },
  {
   "cell_type": "markdown",
   "metadata": {},
   "source": [
    "### **Pandas Data Types**\n",
    "\n",
    "Numeric:\n",
    "- Integer (int64): Represents whole numbers (e.g., 10, -5). \n",
    "    This is the default integer type in pandas. (64 bit integer)\n",
    "- Float (float64): Represents numbers with decimals (e.g., 3.14, -12.5).\n",
    "- Boolean (bool): Represents logical True or False values.\n",
    "- Object: This is a versatile but less efficient type that can store various data types \n",
    "like strings, lists, or custom objects. \n",
    "    Pandas uses this type when it cannot infer a more specific data type."
   ]
  },
  {
   "cell_type": "code",
   "execution_count": 13,
   "metadata": {},
   "outputs": [
    {
     "data": {
      "text/plain": [
       "0    1\n",
       "1    2\n",
       "2    3\n",
       "3    4\n",
       "4    5\n",
       "dtype: int64"
      ]
     },
     "execution_count": 13,
     "metadata": {},
     "output_type": "execute_result"
    }
   ],
   "source": [
    "# Integer (int64)\n",
    "int_series =pd.Series([1,2,3,4,5])\n",
    "int_series"
   ]
  },
  {
   "cell_type": "code",
   "execution_count": 14,
   "metadata": {},
   "outputs": [
    {
     "data": {
      "text/plain": [
       "0    3.1400\n",
       "1   -3.1400\n",
       "2    0.0001\n",
       "3   -0.0001\n",
       "dtype: float64"
      ]
     },
     "execution_count": 14,
     "metadata": {},
     "output_type": "execute_result"
    }
   ],
   "source": [
    "# Float (float64)\n",
    "float_series = pd.Series([3.14, -3.14, 0.0001, -0.0001])\n",
    "float_series"
   ]
  },
  {
   "cell_type": "code",
   "execution_count": 15,
   "metadata": {},
   "outputs": [
    {
     "data": {
      "text/plain": [
       "0     True\n",
       "1    False\n",
       "2    False\n",
       "3     True\n",
       "dtype: bool"
      ]
     },
     "execution_count": 15,
     "metadata": {},
     "output_type": "execute_result"
    }
   ],
   "source": [
    "# Boolean (bool)\n",
    "boolean_series = pd.Series([True, False, False, True])\n",
    "boolean_series"
   ]
  },
  {
   "cell_type": "code",
   "execution_count": 16,
   "metadata": {},
   "outputs": [
    {
     "data": {
      "text/plain": [
       "0      30\n",
       "1    3.14\n",
       "2    True\n",
       "3    John\n",
       "dtype: object"
      ]
     },
     "execution_count": 16,
     "metadata": {},
     "output_type": "execute_result"
    }
   ],
   "source": [
    "# Object (Object  Mixed Data Types)\n",
    "object_series = pd.Series([30, 3.14, True, \"John\"])\n",
    "object_series"
   ]
  },
  {
   "cell_type": "markdown",
   "metadata": {},
   "source": [
    "Specialized Data Types:\n",
    "- Categorical: Represents categorical data with predefined categories. \n",
    "    Efficient for storing limited sets of categories.\n",
    "- Sparse: Represents sparse data with many missing values. \n",
    "    Stores data efficiently by only keeping non-zero values.\n",
    "- How to manipulate data in the future"
   ]
  },
  {
   "cell_type": "code",
   "execution_count": 18,
   "metadata": {},
   "outputs": [
    {
     "data": {
      "text/plain": [
       "0     Marketing\n",
       "1         Sales\n",
       "2    Operations\n",
       "3            IT\n",
       "4       Finance\n",
       "5            HR\n",
       "dtype: category\n",
       "Categories (6, object): ['Finance', 'HR', 'IT', 'Marketing', 'Operations', 'Sales']"
      ]
     },
     "execution_count": 18,
     "metadata": {},
     "output_type": "execute_result"
    }
   ],
   "source": [
    "# [('Marketing',), ('Sales',), ('Operations',), ('IT',), ('Finance',), ('HR',)]\n",
    "# create categorical list\n",
    "categorical_list = pd.Categorical([\"Marketing\", \"Sales\", \"Operations\", \"IT\", \"Finance\", \"HR\"])\n",
    "categorical_series = pd.Series(categorical_list)\n",
    "categorical_series"
   ]
  },
  {
   "cell_type": "code",
   "execution_count": 19,
   "metadata": {},
   "outputs": [
    {
     "data": {
      "text/plain": [
       "0     30\n",
       "1     31\n",
       "2     32\n",
       "3    NaN\n",
       "4     29\n",
       "5     42\n",
       "6    NaN\n",
       "dtype: Sparse[object, nan]"
      ]
     },
     "execution_count": 19,
     "metadata": {},
     "output_type": "execute_result"
    }
   ],
   "source": [
    "sparse_series = pd.Series(pd.arrays.SparseArray([30,31,32,pd.NA, 29, 42, pd.NA]))\n",
    "sparse_series"
   ]
  },
  {
   "cell_type": "markdown",
   "metadata": {},
   "source": [
    "### **Changing Data Types**"
   ]
  },
  {
   "cell_type": "code",
   "execution_count": 20,
   "metadata": {},
   "outputs": [
    {
     "data": {
      "text/plain": [
       "0    1.0\n",
       "1    2.0\n",
       "2    3.0\n",
       "3    4.0\n",
       "4    5.0\n",
       "dtype: float64"
      ]
     },
     "execution_count": 20,
     "metadata": {},
     "output_type": "execute_result"
    }
   ],
   "source": [
    "# astype()\n",
    "# convert integer to float\n",
    "# Step 2:\n",
    "float_series = int_series.astype('float64')\n",
    "float_series"
   ]
  },
  {
   "cell_type": "code",
   "execution_count": 25,
   "metadata": {},
   "outputs": [
    {
     "data": {
      "text/plain": [
       "0    1\n",
       "1    2\n",
       "2    3\n",
       "3    4\n",
       "4    5\n",
       "dtype: string"
      ]
     },
     "execution_count": 25,
     "metadata": {},
     "output_type": "execute_result"
    }
   ],
   "source": [
    "# astype()\n",
    "# convert integer to float\n",
    "# Step 2:\n",
    "float_series = int_series.astype('string')\n",
    "float_series"
   ]
  },
  {
   "cell_type": "markdown",
   "metadata": {},
   "source": [
    "**Example: Sales Data Analysis**\n",
    "\n",
    "You have a dataset of sales transactions that includes the product name, quantity sold, and sale price. \n",
    "You want to analyze the data to find the total revenue per product."
   ]
  },
  {
   "cell_type": "code",
   "execution_count": null,
   "metadata": {},
   "outputs": [],
   "source": [
    "# Create a DataFrame using Dictionary of List\n",
    "data = {\n",
    "    'Product Name':['Iced Tea', 'Hot Chocolate' , 'Lemonade', 'Coffee', 'Milkshake', 'Tea', 'Smoothie', 'Soda', 'Protein Shake', 'Matcha Latte'],\n",
    "    'Type': ['Cold', 'Hot', 'Cold', 'Hot', 'Cold', 'Hot', 'Cold', 'Cold', 'Cold', 'Hot'],\n",
    "    'Stock': [15, 15, 15, 15, 15, 15, 15, 15, 15, 15],\n",
    "    'Quantity Sold':[6, 9, 13, 11, 8, 6, 14, 10, 8, 10],\n",
    "    'Manufacturing Cost':[7, 10, 6, 8, 9, 7, 10, 11, 8, 9],\n",
    "    'Market Price':[13, 20, 11, 15, 19, 14, 17, 18, 20, 12],\n",
    "    'Rating': [1, 3, 5, 4, 3, 2, 5, 3, 2, 3]\n",
    "}"
   ]
  },
  {
   "cell_type": "code",
   "execution_count": null,
   "metadata": {},
   "outputs": [],
   "source": []
  },
  {
   "cell_type": "code",
   "execution_count": null,
   "metadata": {},
   "outputs": [],
   "source": []
  },
  {
   "cell_type": "markdown",
   "metadata": {},
   "source": [
    "### **Data Selection**\n",
    "\n",
    "Pandas provides numerous methods for selecting and indexing data in Series and DataFrames, \n",
    "including label-based indexing with .loc, integer-position based indexing with .iloc, and conditional selection."
   ]
  },
  {
   "cell_type": "code",
   "execution_count": null,
   "metadata": {},
   "outputs": [],
   "source": []
  },
  {
   "cell_type": "markdown",
   "metadata": {},
   "source": [
    "### **Data Selection in Series**"
   ]
  },
  {
   "cell_type": "code",
   "execution_count": null,
   "metadata": {},
   "outputs": [],
   "source": []
  },
  {
   "cell_type": "code",
   "execution_count": null,
   "metadata": {},
   "outputs": [],
   "source": []
  },
  {
   "cell_type": "markdown",
   "metadata": {},
   "source": [
    "### **Data Selection in DataFrame**\n",
    "\n",
    "#### **Index Location (.iloc)**\n",
    "- Will get rows based on a number/index.\n",
    "- Will output into a DataFrame instead of a Series.\n",
    "> Syntax: [starting_index:ending_index(excluded):step]"
   ]
  },
  {
   "cell_type": "code",
   "execution_count": null,
   "metadata": {},
   "outputs": [],
   "source": []
  },
  {
   "cell_type": "markdown",
   "metadata": {},
   "source": [
    "#### **Location (.loc)**\n",
    "- Access a group of rows and columns by label(s) or a boolean array.\n",
    "> Syntax: [starting_index:ending_index(included):step]"
   ]
  },
  {
   "cell_type": "code",
   "execution_count": null,
   "metadata": {},
   "outputs": [],
   "source": []
  },
  {
   "cell_type": "code",
   "execution_count": null,
   "metadata": {},
   "outputs": [],
   "source": []
  },
  {
   "cell_type": "code",
   "execution_count": null,
   "metadata": {},
   "outputs": [],
   "source": []
  },
  {
   "cell_type": "markdown",
   "metadata": {},
   "source": [
    "## **Conditional Filtering** "
   ]
  },
  {
   "cell_type": "code",
   "execution_count": null,
   "metadata": {},
   "outputs": [],
   "source": []
  },
  {
   "cell_type": "code",
   "execution_count": null,
   "metadata": {},
   "outputs": [],
   "source": []
  },
  {
   "cell_type": "markdown",
   "metadata": {},
   "source": [
    "## **Apply**\n",
    "\n",
    "The apply function in pandas is a powerful tool for working with DataFrames. \n",
    "It allows you to apply a custom function to each element (row or column) of the DataFrame \n",
    "and return a new DataFrame or Series based on the results."
   ]
  },
  {
   "cell_type": "code",
   "execution_count": null,
   "metadata": {},
   "outputs": [],
   "source": []
  },
  {
   "cell_type": "code",
   "execution_count": null,
   "metadata": {},
   "outputs": [],
   "source": []
  },
  {
   "cell_type": "markdown",
   "metadata": {},
   "source": [
    "## Pandas Operators\n",
    "Data Analysis:\n",
    "\n",
    "- sum(): Calculates the sum of a Series or DataFrame\n",
    "- mean(): Calculates the mean of a Series or DataFrame\n",
    "- median(): Calculates the median of a Series or DataFrame\n",
    "- std(): Calculates the standard deviation of a Series or DataFrame\n",
    "- var(): Calculates the variance of a Series or DataFrame\n",
    "\n",
    "Data Loading and Exploration:\n",
    "\n",
    "- head(): Shows the first few rows of a DataFrame\n",
    "- tail(): Shows the last few rows of a DataFrame\n",
    "- describe(): Generates summary statistics for each column (mean, standard deviation, etc.)\n",
    "- info(): Displays information about the DataFrame, including data types and memory usage"
   ]
  },
  {
   "cell_type": "code",
   "execution_count": null,
   "metadata": {},
   "outputs": [],
   "source": []
  },
  {
   "cell_type": "code",
   "execution_count": null,
   "metadata": {},
   "outputs": [],
   "source": []
  },
  {
   "cell_type": "markdown",
   "metadata": {},
   "source": [
    "### **Aggregating Data** (.groupby)\n",
    "\n",
    "Aggregating data involves summarizing data points into meaningful statistics, \n",
    "such as averages, sums, or counts, which can be achieved using GroupBy operations or pivot tables. \n",
    "This helps in understanding the dataset at a higher level."
   ]
  },
  {
   "cell_type": "code",
   "execution_count": null,
   "metadata": {},
   "outputs": [],
   "source": []
  },
  {
   "cell_type": "code",
   "execution_count": null,
   "metadata": {},
   "outputs": [],
   "source": []
  },
  {
   "cell_type": "code",
   "execution_count": null,
   "metadata": {},
   "outputs": [],
   "source": []
  },
  {
   "cell_type": "code",
   "execution_count": null,
   "metadata": {},
   "outputs": [],
   "source": []
  }
 ],
 "metadata": {
  "kernelspec": {
   "display_name": "Python 3",
   "language": "python",
   "name": "python3"
  },
  "language_info": {
   "codemirror_mode": {
    "name": "ipython",
    "version": 3
   },
   "file_extension": ".py",
   "mimetype": "text/x-python",
   "name": "python",
   "nbconvert_exporter": "python",
   "pygments_lexer": "ipython3",
   "version": "3.13.2"
  }
 },
 "nbformat": 4,
 "nbformat_minor": 2
}
